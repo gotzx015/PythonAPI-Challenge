{
 "cells": [
  {
   "cell_type": "markdown",
   "metadata": {},
   "source": [
    "# WeatherPy\n",
    "----\n",
    "\n",
    "#### Note\n",
    "* Instructions have been included for each segment. You do not have to follow them exactly, but they are included to help you think through the steps."
   ]
  },
  {
   "cell_type": "code",
   "execution_count": 114,
   "metadata": {
    "scrolled": true
   },
   "outputs": [],
   "source": [
    "# Dependencies\n",
    "import json\n",
    "import requests\n",
    "import matplotlib.pyplot as plt\n",
    "import pandas as pd\n",
    "import random\n",
    "import numpy as np\n",
    "import scipy.stats as st\n",
    "from scipy.stats import linregress\n",
    "from pprint import pprint\n",
    "from citipy import citipy\n",
    "from api_keys import weather_api_key\n",
    "from api_keys import g_key"
   ]
  },
  {
   "cell_type": "markdown",
   "metadata": {},
   "source": [
    "## Generate Cities List"
   ]
  },
  {
   "cell_type": "code",
   "execution_count": 72,
   "metadata": {},
   "outputs": [
    {
     "name": "stdout",
     "output_type": "stream",
     "text": [
      "592\n"
     ]
    }
   ],
   "source": [
    "cities = []\n",
    "\n",
    "for x in range(0, 1500):\n",
    "    \n",
    "    # Generate random numbers for latitude and longitude\n",
    "    lat = random.randrange(-90, 90, 1)\n",
    "    lng = random.randrange(-180, 180, 1)\n",
    "    \n",
    "    # Grab closest city to coordinates\n",
    "    city = citipy.nearest_city(lat, lng)\n",
    "    city_name = city.city_name\n",
    "    \n",
    "    # Add to list of cities\n",
    "    cities.append(city_name)\n",
    "\n",
    "# Convert to pandas series\n",
    "cities = pd.Series(cities)\n",
    "\n",
    "# Get rid of duplicates\n",
    "cities = cities.unique()\n",
    "\n",
    "# Print length of cities list\n",
    "print(len(cities))"
   ]
  },
  {
   "cell_type": "markdown",
   "metadata": {},
   "source": [
    "### Perform API Calls\n",
    "* Perform a weather check on each city using a series of successive API calls.\n",
    "* Include a print log of each city as it'sbeing processed (with the city number and city name).\n"
   ]
  },
  {
   "cell_type": "code",
   "execution_count": 73,
   "metadata": {},
   "outputs": [],
   "source": [
    "# Save config information\n",
    "url = \"http://api.openweathermap.org/data/2.5/weather?\"\n",
    "\n",
    "# Build query URL\n",
    "query_url = url + \"appid=\" + weather_api_key + \"&units=imperial\" + \"&q=\""
   ]
  },
  {
   "cell_type": "code",
   "execution_count": 155,
   "metadata": {},
   "outputs": [
    {
     "name": "stdout",
     "output_type": "stream",
     "text": [
      "Storing data for agogo\n",
      "City not found... skipping.\n",
      "City not found... skipping.\n",
      "Storing data for sao joao da barra\n",
      "Storing data for dire dawa\n",
      "Storing data for ushuaia\n",
      "Storing data for abu samrah\n",
      "Storing data for sangar\n",
      "Storing data for rikitea\n",
      "Storing data for longyearbyen\n",
      "Storing data for pitimbu\n",
      "Storing data for atar\n",
      "Storing data for yellowknife\n",
      "City not found... skipping.\n",
      "Storing data for lumsden\n",
      "Storing data for east london\n",
      "Storing data for lufilufi\n",
      "Storing data for busselton\n",
      "Storing data for villanueva\n",
      "Storing data for adrar\n",
      "Storing data for mataura\n",
      "Storing data for cervo\n",
      "Storing data for hobart\n",
      "Storing data for khatanga\n",
      "Storing data for rio gallegos\n",
      "Storing data for san carlos de bariloche\n",
      "Storing data for thompson\n",
      "Storing data for arlit\n",
      "City not found... skipping.\n",
      "Storing data for barra do garcas\n",
      "Storing data for shingu\n",
      "City not found... skipping.\n",
      "Storing data for bluff\n",
      "Storing data for jamestown\n",
      "Storing data for new norfolk\n",
      "Storing data for prince rupert\n",
      "Storing data for pathein\n",
      "Storing data for chardara\n",
      "Storing data for arraial do cabo\n",
      "Storing data for nome\n",
      "Storing data for lebu\n",
      "Storing data for port alfred\n",
      "Storing data for san quintin\n",
      "Storing data for olinda\n",
      "Storing data for cabo san lucas\n",
      "Storing data for monrovia\n",
      "Storing data for wakkanai\n",
      "Storing data for qaanaaq\n",
      "Storing data for maceio\n",
      "Storing data for butaritari\n",
      "Storing data for kurchum\n",
      "Storing data for richards bay\n",
      "Storing data for bud\n",
      "City not found... skipping.\n",
      "Storing data for ixtapa\n",
      "City not found... skipping.\n",
      "Storing data for albany\n",
      "Storing data for rapid valley\n",
      "Storing data for punta arenas\n",
      "Storing data for berlevag\n",
      "Storing data for novoagansk\n",
      "Storing data for mar del plata\n",
      "Storing data for klaksvik\n",
      "Storing data for ketchikan\n",
      "Storing data for bonavista\n",
      "Storing data for avarua\n",
      "Storing data for vaini\n",
      "Storing data for biak\n",
      "Storing data for mahebourg\n",
      "Storing data for kargil\n",
      "Storing data for iqaluit\n",
      "Storing data for daru\n",
      "Storing data for samarai\n",
      "Storing data for kindu\n",
      "Storing data for pangoa\n",
      "Storing data for bredasdorp\n",
      "Storing data for bethel\n",
      "Storing data for talnakh\n",
      "City not found... skipping.\n",
      "Storing data for hamilton\n",
      "Storing data for rabo de peixe\n",
      "Storing data for barrow\n",
      "Storing data for kupang\n",
      "Storing data for ilulissat\n",
      "Storing data for lincoln\n",
      "Storing data for ambilobe\n",
      "Storing data for guerrero negro\n",
      "City not found... skipping.\n",
      "Storing data for asfi\n",
      "Storing data for cape town\n",
      "Storing data for hermanus\n",
      "Storing data for partyzany\n",
      "Storing data for dargaville\n",
      "Storing data for sfantu gheorghe\n",
      "Storing data for fairbanks\n",
      "Storing data for cam ranh\n",
      "Storing data for esperance\n",
      "Storing data for te anau\n",
      "Storing data for atuona\n",
      "Storing data for aloleng\n",
      "Storing data for inirida\n",
      "Storing data for hongjiang\n",
      "Storing data for tello\n",
      "City not found... skipping.\n",
      "Storing data for enkoping\n",
      "Storing data for geraldton\n",
      "Storing data for ribeira grande\n",
      "Storing data for komsomolskiy\n",
      "Storing data for san jose\n",
      "Storing data for hervey bay\n",
      "Storing data for hare bay\n",
      "Storing data for isangel\n",
      "Storing data for qaqortoq\n",
      "Storing data for souillac\n",
      "Storing data for kapaa\n",
      "Storing data for agadez\n",
      "Storing data for clyde river\n",
      "Storing data for santa rosa\n",
      "Storing data for kaitangata\n",
      "Storing data for bechem\n",
      "Storing data for katsuura\n",
      "Storing data for bozuyuk\n",
      "Storing data for severo-kurilsk\n",
      "Storing data for sheregesh\n",
      "Storing data for saint-pierre\n",
      "Storing data for nuuk\n",
      "Storing data for karratha\n",
      "Storing data for dingle\n",
      "Storing data for la palma\n",
      "Storing data for cidreira\n",
      "Storing data for narsaq\n",
      "Storing data for chapais\n",
      "Storing data for whitehorse\n",
      "Storing data for okha\n",
      "Storing data for faanui\n",
      "Storing data for birin\n",
      "Storing data for pangnirtung\n",
      "Storing data for bambanglipuro\n",
      "City not found... skipping.\n",
      "Storing data for grand-lahou\n",
      "Storing data for zarubino\n",
      "Storing data for kavieng\n",
      "Storing data for rozivka\n",
      "Storing data for mount gambier\n",
      "Storing data for korla\n",
      "Storing data for dikson\n",
      "Storing data for airai\n",
      "Storing data for chokurdakh\n",
      "Storing data for ponta delgada\n",
      "City not found... skipping.\n",
      "Storing data for hilo\n",
      "Storing data for weyburn\n",
      "Storing data for bucyrus\n",
      "Storing data for rosendal\n",
      "Storing data for neepawa\n",
      "Storing data for vao\n",
      "Storing data for saskylakh\n",
      "Storing data for cherskiy\n",
      "Storing data for el sauzal\n",
      "Storing data for gromiljak\n",
      "Storing data for saldanha\n",
      "Storing data for junction city\n",
      "Storing data for seoul\n",
      "Storing data for puerto escondido\n",
      "Storing data for tiksi\n",
      "Storing data for beboto\n",
      "Storing data for tura\n",
      "Storing data for eureka\n",
      "Storing data for bilma\n",
      "Storing data for andros town\n",
      "Storing data for tautira\n",
      "Storing data for kearney\n",
      "Storing data for stafford\n",
      "Storing data for pacific grove\n",
      "Storing data for dwarka\n",
      "Storing data for mwinilunga\n",
      "Storing data for acarau\n",
      "City not found... skipping.\n",
      "City not found... skipping.\n",
      "Storing data for hithadhoo\n",
      "Storing data for hay river\n",
      "City not found... skipping.\n",
      "Storing data for vila velha\n",
      "Storing data for chuy\n",
      "Storing data for mehamn\n",
      "Storing data for opuwo\n",
      "Storing data for washim\n",
      "Storing data for lokosovo\n",
      "Storing data for axim\n",
      "City not found... skipping.\n",
      "Storing data for upernavik\n",
      "Storing data for carnarvon\n",
      "Storing data for sept-iles\n",
      "Storing data for kodiak\n",
      "Storing data for husavik\n",
      "Storing data for castro\n",
      "Storing data for port hedland\n",
      "Storing data for devils lake\n",
      "Storing data for tasiilaq\n",
      "Storing data for kisiwani\n",
      "City not found... skipping.\n",
      "Storing data for roald\n",
      "Storing data for mokhotlong\n",
      "Storing data for ingham\n",
      "Storing data for provideniya\n",
      "Storing data for port elizabeth\n",
      "Storing data for lavrentiya\n",
      "Storing data for mudon\n",
      "Storing data for georgetown\n",
      "Storing data for nabire\n",
      "Storing data for manta\n",
      "Storing data for saravan\n",
      "Storing data for salalah\n",
      "Storing data for norman wells\n",
      "Storing data for nogliki\n",
      "City not found... skipping.\n",
      "City not found... skipping.\n",
      "Storing data for nadvoitsy\n",
      "Storing data for yerbogachen\n",
      "Storing data for xining\n",
      "Storing data for aklavik\n",
      "Storing data for esmeralda\n",
      "Storing data for matara\n",
      "Storing data for rio grande\n",
      "Storing data for meulaboh\n",
      "Storing data for bilibino\n",
      "Storing data for bambous virieux\n",
      "Storing data for fukue\n",
      "Storing data for viedma\n",
      "Storing data for benguela\n",
      "Storing data for nkhotakota\n",
      "Storing data for vysoke\n",
      "Storing data for panjab\n",
      "Storing data for bulungu\n",
      "Storing data for kota tinggi\n",
      "Storing data for pokhara\n",
      "Storing data for ponta do sol\n",
      "Storing data for henties bay\n",
      "Storing data for topchikha\n",
      "Storing data for subate\n",
      "Storing data for mackenzie\n",
      "Storing data for victoria\n",
      "Storing data for miguel hidalgo\n",
      "Storing data for at-bashi\n",
      "Storing data for pteleos\n",
      "Storing data for honiara\n",
      "Storing data for mulege\n",
      "Storing data for stellenbosch\n",
      "Storing data for yulara\n",
      "Storing data for istisu\n",
      "City not found... skipping.\n",
      "Storing data for rocha\n",
      "Storing data for tuktoyaktuk\n",
      "Storing data for codrington\n",
      "Storing data for jalu\n",
      "Storing data for port lincoln\n",
      "City not found... skipping.\n",
      "Storing data for bereda\n",
      "Storing data for campbell river\n",
      "City not found... skipping.\n",
      "Storing data for smithers\n",
      "Storing data for kruisfontein\n",
      "City not found... skipping.\n",
      "Storing data for yumen\n",
      "Storing data for jyvaskyla\n",
      "Storing data for nongpoh\n",
      "Storing data for mirandola\n",
      "Storing data for cockburn town\n",
      "Storing data for pevek\n",
      "Storing data for puerto ayora\n",
      "City not found... skipping.\n",
      "Storing data for hofn\n",
      "Storing data for porterville\n",
      "Storing data for umm kaddadah\n",
      "City not found... skipping.\n",
      "Storing data for beringovskiy\n",
      "Storing data for new ulm\n",
      "Storing data for salinas\n",
      "Storing data for baruun-urt\n",
      "Storing data for saint-paul-les-dax\n",
      "Storing data for naze\n",
      "Storing data for bengkulu\n",
      "Storing data for linhares\n",
      "Storing data for plouzane\n",
      "Storing data for jumla\n",
      "Storing data for selenduma\n",
      "Storing data for preobrazheniye\n",
      "Storing data for bathsheba\n",
      "Storing data for haines junction\n",
      "Storing data for vermillion\n",
      "Storing data for buraydah\n",
      "Storing data for brae\n",
      "Storing data for nueva imperial\n",
      "Storing data for auki\n",
      "Storing data for taoudenni\n",
      "Storing data for oriximina\n",
      "Storing data for nikolskoye\n",
      "Storing data for pauini\n",
      "Storing data for margate\n",
      "Storing data for dubbo\n",
      "Storing data for herrin\n",
      "City not found... skipping.\n",
      "Storing data for laguna\n",
      "Storing data for cayenne\n",
      "Storing data for flin flon\n",
      "City not found... skipping.\n",
      "Storing data for camara de lobos\n",
      "Storing data for olga\n",
      "Storing data for mogocha\n",
      "Storing data for maniitsoq\n"
     ]
    },
    {
     "name": "stdout",
     "output_type": "stream",
     "text": [
      "Storing data for labuhan\n",
      "Storing data for casablanca\n",
      "Storing data for torbay\n",
      "Storing data for tiarei\n",
      "Storing data for palmer\n",
      "Storing data for bar-le-duc\n",
      "Storing data for accra\n",
      "Storing data for sistranda\n",
      "Storing data for havre-saint-pierre\n",
      "Storing data for acapulco\n",
      "Storing data for beloha\n",
      "Storing data for fortuna\n",
      "Storing data for skorodnoye\n",
      "City not found... skipping.\n",
      "Storing data for ucluelet\n",
      "Storing data for merke\n",
      "Storing data for thayetmyo\n",
      "Storing data for moba\n",
      "Storing data for diofior\n",
      "Storing data for tongling\n",
      "Storing data for manakara\n",
      "Storing data for haimen\n",
      "Storing data for ulaanbaatar\n",
      "City not found... skipping.\n",
      "City not found... skipping.\n",
      "City not found... skipping.\n",
      "Storing data for griffith\n",
      "Storing data for luwuk\n",
      "Storing data for kahului\n",
      "Storing data for constitucion\n",
      "Storing data for lakes entrance\n",
      "City not found... skipping.\n",
      "Storing data for pavilosta\n",
      "City not found... skipping.\n",
      "Storing data for bitung\n",
      "Storing data for maputo\n",
      "Storing data for kenai\n",
      "Storing data for kamenka\n",
      "City not found... skipping.\n",
      "Storing data for grand-santi\n",
      "Storing data for duku\n",
      "Storing data for cabedelo\n",
      "Storing data for keffi\n",
      "Storing data for saint george\n",
      "Storing data for anchorage\n",
      "Storing data for sao filipe\n",
      "Storing data for bayir\n",
      "Storing data for port blair\n",
      "Storing data for lompoc\n",
      "Storing data for batsfjord\n",
      "Storing data for teya\n",
      "Storing data for san patricio\n",
      "Storing data for saint-leu\n",
      "Storing data for san cristobal\n",
      "Storing data for maturin\n",
      "Storing data for tuatapere\n",
      "Storing data for nanortalik\n",
      "Storing data for balkanabat\n",
      "Storing data for hobyo\n",
      "Storing data for padang\n",
      "Storing data for nelson bay\n",
      "Storing data for ratnagiri\n",
      "Storing data for sakakah\n",
      "Storing data for pesaro\n",
      "Storing data for sretensk\n",
      "Storing data for marawi\n",
      "Storing data for sukhobezvodnoye\n",
      "Storing data for amazar\n",
      "Storing data for kawardha\n",
      "Storing data for yeppoon\n",
      "Storing data for tabou\n",
      "Storing data for banda aceh\n",
      "Storing data for lagoa\n",
      "Storing data for sitka\n",
      "Storing data for great falls\n",
      "Storing data for lata\n",
      "Storing data for leningradskiy\n",
      "Storing data for praia da vitoria\n",
      "Storing data for pangody\n",
      "Storing data for yar-sale\n",
      "Storing data for vrangel\n",
      "Storing data for brokopondo\n",
      "Storing data for salym\n",
      "Storing data for ardahan\n",
      "Storing data for carandai\n",
      "Storing data for port-gentil\n",
      "Storing data for wanning\n",
      "Storing data for asau\n",
      "Storing data for sao sebastiao\n",
      "Storing data for champerico\n",
      "Storing data for takoradi\n",
      "Storing data for erdenet\n",
      "Storing data for puerto baquerizo moreno\n",
      "Storing data for hovd\n",
      "Storing data for tarakan\n",
      "Storing data for sabzevar\n",
      "Storing data for sioux lookout\n",
      "Storing data for tecoanapa\n",
      "Storing data for dunedin\n",
      "Storing data for durban\n",
      "Storing data for port macquarie\n",
      "Storing data for saint-philippe\n",
      "Storing data for alice springs\n",
      "Storing data for oliva\n",
      "City not found... skipping.\n",
      "Storing data for impfondo\n",
      "Storing data for kutum\n",
      "Storing data for orapa\n",
      "City not found... skipping.\n",
      "Storing data for ancud\n",
      "Storing data for sakaiminato\n",
      "Storing data for kasane\n",
      "Storing data for college\n",
      "Storing data for benghazi\n",
      "Storing data for saint-georges\n",
      "Storing data for lasa\n",
      "Storing data for nouadhibou\n",
      "Storing data for esna\n",
      "Storing data for bowen\n",
      "Storing data for half moon bay\n",
      "Storing data for tessalit\n",
      "Storing data for tias\n",
      "Storing data for nazca\n",
      "Storing data for namie\n",
      "Storing data for izumo\n",
      "Storing data for evensk\n",
      "Storing data for ondjiva\n",
      "City not found... skipping.\n",
      "Storing data for noyabrsk\n",
      "Storing data for dickinson\n",
      "Storing data for anna paulowna\n",
      "City not found... skipping.\n",
      "Storing data for laiyang\n",
      "Storing data for santander\n",
      "Storing data for el rosario\n",
      "Storing data for kavaratti\n",
      "Storing data for ostrovnoy\n",
      "Storing data for mapimi\n",
      "Storing data for damphu\n",
      "Storing data for verkhoyansk\n",
      "Storing data for manoel urbano\n",
      "Storing data for gushikawa\n",
      "Storing data for gaoua\n",
      "Storing data for waipawa\n",
      "Storing data for talcahuano\n",
      "Storing data for do gonbadan\n",
      "Storing data for baykit\n",
      "City not found... skipping.\n",
      "City not found... skipping.\n",
      "Storing data for maksatikha\n",
      "Storing data for jawhar\n",
      "Storing data for vuktyl\n",
      "Storing data for sungaipenuh\n",
      "Storing data for nantucket\n",
      "Storing data for payakumbuh\n",
      "Storing data for sosnovo-ozerskoye\n",
      "Storing data for seydisehir\n",
      "Storing data for sorong\n",
      "Storing data for torrington\n",
      "Storing data for balatonalmadi\n",
      "City not found... skipping.\n",
      "Storing data for matam\n",
      "Storing data for mora\n",
      "Storing data for bandundu\n",
      "Storing data for camacha\n",
      "City not found... skipping.\n",
      "Storing data for zhireken\n",
      "Storing data for ankazoabo\n",
      "Storing data for alexander city\n",
      "Storing data for broome\n",
      "Storing data for hainburg\n",
      "Storing data for mariestad\n",
      "Storing data for walvis bay\n",
      "Storing data for rybinsk\n",
      "Storing data for barreiras\n",
      "Storing data for tucuma\n",
      "Storing data for vila franca do campo\n",
      "Storing data for hasaki\n",
      "City not found... skipping.\n",
      "City not found... skipping.\n",
      "Storing data for kota\n",
      "Storing data for tukrah\n",
      "Storing data for chicama\n",
      "Storing data for gilgit\n",
      "Storing data for cumbernauld\n",
      "Storing data for denpasar\n",
      "Storing data for butte\n",
      "Storing data for imeni poliny osipenko\n",
      "Storing data for diamantino\n",
      "Storing data for kieta\n",
      "Storing data for lazo\n",
      "Storing data for touros\n",
      "Storing data for darnah\n",
      "Storing data for zhigansk\n",
      "City not found... skipping.\n",
      "Storing data for tual\n",
      "Storing data for namibe\n",
      "Storing data for portland\n",
      "Storing data for dukat\n",
      "City not found... skipping.\n",
      "Storing data for alofi\n",
      "Storing data for plettenberg bay\n",
      "Storing data for labytnangi\n",
      "Storing data for caravelas\n",
      "Storing data for pangai\n",
      "City not found... skipping.\n",
      "Storing data for staroaleyskoye\n",
      "City not found... skipping.\n",
      "Storing data for rawah\n",
      "Storing data for esso\n",
      "Storing data for dongobesh\n",
      "City not found... skipping.\n",
      "Storing data for lasem\n",
      "Storing data for faya\n",
      "Storing data for abu dhabi\n",
      "Storing data for saint-raphael\n",
      "City not found... skipping.\n",
      "Storing data for brownsville\n",
      "Storing data for port hardy\n",
      "Storing data for hazorasp\n",
      "Storing data for farafangana\n",
      "Storing data for redmond\n",
      "Storing data for ukiah\n",
      "Storing data for okhotsk\n",
      "Storing data for altagracia de orituco\n",
      "City not found... skipping.\n",
      "Storing data for khandyga\n",
      "City not found... skipping.\n",
      "Storing data for yaan\n",
      "Storing data for iquique\n",
      "Storing data for humaita\n",
      "Storing data for yatou\n",
      "Storing data for mabai\n",
      "Storing data for johnstown\n",
      "City not found... skipping.\n",
      "Storing data for tshela\n",
      "City not found... skipping.\n",
      "Storing data for nalut\n",
      "Storing data for george town\n",
      "City not found... skipping.\n",
      "Storing data for hearst\n",
      "Storing data for palu\n",
      "Storing data for nyuksenitsa\n",
      "Storing data for shenjiamen\n",
      "Storing data for ploemeur\n",
      "Storing data for kaspiyskiy\n",
      "Storing data for point pleasant\n",
      "Storing data for gimli\n",
      "Storing data for vanavara\n",
      "Storing data for gouyave\n",
      "Storing data for pishin\n",
      "Storing data for upington\n",
      "Storing data for vanimo\n",
      "Storing data for ulu-telyak\n",
      "Storing data for mailsi\n",
      "Storing data for kuusamo\n",
      "Storing data for cedar rapids\n",
      "City not found... skipping.\n",
      "Storing data for sidi ali\n",
      "Storing data for karoi\n",
      "Storing data for ola\n",
      "Storing data for la ronge\n",
      "Storing data for yafran\n",
      "Storing data for barcelos\n",
      "Storing data for ust-tsilma\n",
      "Storing data for gasa\n",
      "Storing data for santa barbara\n",
      "Storing data for nara\n",
      "Storing data for mkushi\n",
      "Storing data for wattegama\n",
      "Storing data for taunton\n",
      "Storing data for sisimiut\n",
      "Storing data for aykhal\n",
      "Storing data for colquechaca\n",
      "Storing data for constantine\n",
      "Storing data for sabang\n",
      "Storing data for gillette\n",
      "Storing data for grindavik\n",
      "City not found... skipping.\n",
      "City not found... skipping.\n",
      "Storing data for tres arroyos\n",
      "Storing data for san felipe\n"
     ]
    }
   ],
   "source": [
    "# Create empty lists to store information\n",
    "lat = []\n",
    "lng = []\n",
    "temp = []\n",
    "humid = []\n",
    "cloud = []\n",
    "wind = []\n",
    "country = []\n",
    "date = []\n",
    "\n",
    "# Loop through the list of cities and perform a request for data on each\n",
    "for city in cities:\n",
    "    response = requests.get(query_url + city).json()\n",
    "    \n",
    "    try:\n",
    "        lat.append(response['coord']['lat'])\n",
    "        lng.append(response['coord']['lon'])\n",
    "        temp.append(response['main']['temp_max'])\n",
    "        humid.append(response['main']['humidity'])\n",
    "        cloud.append(response['clouds']['all'])\n",
    "        wind.append(response['wind']['speed'])\n",
    "        country.append(response['sys']['country'])\n",
    "        date.append(response['dt'])\n",
    "        print(f'Storing data for {city}')\n",
    "        \n",
    "        \n",
    "    except (KeyError, IndexError):\n",
    "        lat.append(np.nan)\n",
    "        lng.append(np.nan)\n",
    "        temp.append(np.nan)\n",
    "        humid.append(np.nan)\n",
    "        cloud.append(np.nan)\n",
    "        wind.append(np.nan)\n",
    "        country.append(np.nan)\n",
    "        date.append(np.nan)\n",
    "        print(\"City not found... skipping.\")"
   ]
  },
  {
   "cell_type": "markdown",
   "metadata": {},
   "source": [
    "### Convert Raw Data to DataFrame\n",
    "* Export the city data into a .csv.\n",
    "* Display the DataFrame"
   ]
  },
  {
   "cell_type": "code",
   "execution_count": 98,
   "metadata": {},
   "outputs": [
    {
     "data": {
      "text/html": [
       "<div>\n",
       "<style scoped>\n",
       "    .dataframe tbody tr th:only-of-type {\n",
       "        vertical-align: middle;\n",
       "    }\n",
       "\n",
       "    .dataframe tbody tr th {\n",
       "        vertical-align: top;\n",
       "    }\n",
       "\n",
       "    .dataframe thead th {\n",
       "        text-align: right;\n",
       "    }\n",
       "</style>\n",
       "<table border=\"1\" class=\"dataframe\">\n",
       "  <thead>\n",
       "    <tr style=\"text-align: right;\">\n",
       "      <th></th>\n",
       "      <th>City</th>\n",
       "      <th>Lat</th>\n",
       "      <th>Lng</th>\n",
       "      <th>Max Temp</th>\n",
       "      <th>Humidity</th>\n",
       "      <th>Cloudiness</th>\n",
       "      <th>Wind Speed</th>\n",
       "      <th>Country</th>\n",
       "      <th>Date</th>\n",
       "    </tr>\n",
       "  </thead>\n",
       "  <tbody>\n",
       "    <tr>\n",
       "      <th>0</th>\n",
       "      <td>agogo</td>\n",
       "      <td>6.8000</td>\n",
       "      <td>-1.0819</td>\n",
       "      <td>69.44</td>\n",
       "      <td>97.0</td>\n",
       "      <td>99.0</td>\n",
       "      <td>3.69</td>\n",
       "      <td>GH</td>\n",
       "      <td>1.619307e+09</td>\n",
       "    </tr>\n",
       "    <tr>\n",
       "      <th>1</th>\n",
       "      <td>sao joao da barra</td>\n",
       "      <td>-21.6403</td>\n",
       "      <td>-41.0511</td>\n",
       "      <td>71.76</td>\n",
       "      <td>84.0</td>\n",
       "      <td>10.0</td>\n",
       "      <td>3.51</td>\n",
       "      <td>BR</td>\n",
       "      <td>1.619307e+09</td>\n",
       "    </tr>\n",
       "    <tr>\n",
       "      <th>2</th>\n",
       "      <td>dire dawa</td>\n",
       "      <td>9.5931</td>\n",
       "      <td>41.8661</td>\n",
       "      <td>70.18</td>\n",
       "      <td>70.0</td>\n",
       "      <td>37.0</td>\n",
       "      <td>11.21</td>\n",
       "      <td>ET</td>\n",
       "      <td>1.619307e+09</td>\n",
       "    </tr>\n",
       "    <tr>\n",
       "      <th>3</th>\n",
       "      <td>ushuaia</td>\n",
       "      <td>-54.8000</td>\n",
       "      <td>-68.3000</td>\n",
       "      <td>50.00</td>\n",
       "      <td>57.0</td>\n",
       "      <td>40.0</td>\n",
       "      <td>9.22</td>\n",
       "      <td>AR</td>\n",
       "      <td>1.619307e+09</td>\n",
       "    </tr>\n",
       "    <tr>\n",
       "      <th>4</th>\n",
       "      <td>abu samrah</td>\n",
       "      <td>35.3029</td>\n",
       "      <td>37.1841</td>\n",
       "      <td>71.19</td>\n",
       "      <td>38.0</td>\n",
       "      <td>66.0</td>\n",
       "      <td>3.44</td>\n",
       "      <td>SY</td>\n",
       "      <td>1.619307e+09</td>\n",
       "    </tr>\n",
       "    <tr>\n",
       "      <th>...</th>\n",
       "      <td>...</td>\n",
       "      <td>...</td>\n",
       "      <td>...</td>\n",
       "      <td>...</td>\n",
       "      <td>...</td>\n",
       "      <td>...</td>\n",
       "      <td>...</td>\n",
       "      <td>...</td>\n",
       "      <td>...</td>\n",
       "    </tr>\n",
       "    <tr>\n",
       "      <th>529</th>\n",
       "      <td>sabang</td>\n",
       "      <td>5.8933</td>\n",
       "      <td>95.3214</td>\n",
       "      <td>82.60</td>\n",
       "      <td>71.0</td>\n",
       "      <td>100.0</td>\n",
       "      <td>14.54</td>\n",
       "      <td>ID</td>\n",
       "      <td>1.619308e+09</td>\n",
       "    </tr>\n",
       "    <tr>\n",
       "      <th>530</th>\n",
       "      <td>gillette</td>\n",
       "      <td>44.2911</td>\n",
       "      <td>-105.5022</td>\n",
       "      <td>55.99</td>\n",
       "      <td>50.0</td>\n",
       "      <td>90.0</td>\n",
       "      <td>17.27</td>\n",
       "      <td>US</td>\n",
       "      <td>1.619308e+09</td>\n",
       "    </tr>\n",
       "    <tr>\n",
       "      <th>531</th>\n",
       "      <td>grindavik</td>\n",
       "      <td>63.8424</td>\n",
       "      <td>-22.4338</td>\n",
       "      <td>44.60</td>\n",
       "      <td>100.0</td>\n",
       "      <td>90.0</td>\n",
       "      <td>19.57</td>\n",
       "      <td>IS</td>\n",
       "      <td>1.619308e+09</td>\n",
       "    </tr>\n",
       "    <tr>\n",
       "      <th>532</th>\n",
       "      <td>tres arroyos</td>\n",
       "      <td>-38.3739</td>\n",
       "      <td>-60.2798</td>\n",
       "      <td>55.80</td>\n",
       "      <td>70.0</td>\n",
       "      <td>46.0</td>\n",
       "      <td>9.44</td>\n",
       "      <td>AR</td>\n",
       "      <td>1.619308e+09</td>\n",
       "    </tr>\n",
       "    <tr>\n",
       "      <th>533</th>\n",
       "      <td>san felipe</td>\n",
       "      <td>10.3399</td>\n",
       "      <td>-68.7425</td>\n",
       "      <td>72.54</td>\n",
       "      <td>94.0</td>\n",
       "      <td>88.0</td>\n",
       "      <td>5.08</td>\n",
       "      <td>VE</td>\n",
       "      <td>1.619308e+09</td>\n",
       "    </tr>\n",
       "  </tbody>\n",
       "</table>\n",
       "<p>534 rows × 9 columns</p>\n",
       "</div>"
      ],
      "text/plain": [
       "                  City      Lat       Lng  Max Temp  Humidity  Cloudiness  \\\n",
       "0                agogo   6.8000   -1.0819     69.44      97.0        99.0   \n",
       "1    sao joao da barra -21.6403  -41.0511     71.76      84.0        10.0   \n",
       "2            dire dawa   9.5931   41.8661     70.18      70.0        37.0   \n",
       "3              ushuaia -54.8000  -68.3000     50.00      57.0        40.0   \n",
       "4           abu samrah  35.3029   37.1841     71.19      38.0        66.0   \n",
       "..                 ...      ...       ...       ...       ...         ...   \n",
       "529             sabang   5.8933   95.3214     82.60      71.0       100.0   \n",
       "530           gillette  44.2911 -105.5022     55.99      50.0        90.0   \n",
       "531          grindavik  63.8424  -22.4338     44.60     100.0        90.0   \n",
       "532       tres arroyos -38.3739  -60.2798     55.80      70.0        46.0   \n",
       "533         san felipe  10.3399  -68.7425     72.54      94.0        88.0   \n",
       "\n",
       "     Wind Speed Country          Date  \n",
       "0          3.69      GH  1.619307e+09  \n",
       "1          3.51      BR  1.619307e+09  \n",
       "2         11.21      ET  1.619307e+09  \n",
       "3          9.22      AR  1.619307e+09  \n",
       "4          3.44      SY  1.619307e+09  \n",
       "..          ...     ...           ...  \n",
       "529       14.54      ID  1.619308e+09  \n",
       "530       17.27      US  1.619308e+09  \n",
       "531       19.57      IS  1.619308e+09  \n",
       "532        9.44      AR  1.619308e+09  \n",
       "533        5.08      VE  1.619308e+09  \n",
       "\n",
       "[534 rows x 9 columns]"
      ]
     },
     "execution_count": 98,
     "metadata": {},
     "output_type": "execute_result"
    }
   ],
   "source": [
    "# Create dictionary to store information\n",
    "weather_dict = {\n",
    "    \"City\": cities,\n",
    "    \"Lat\": lat,\n",
    "    \"Lng\": lng,\n",
    "    \"Max Temp\": temp,\n",
    "    \"Humidity\": humid,\n",
    "    \"Cloudiness\": cloud,\n",
    "    \"Wind Speed\": wind,\n",
    "    \"Country\": country,\n",
    "    \"Date\": date\n",
    "}\n",
    "\n",
    "# Create dataframe\n",
    "weather_data = pd.DataFrame(weather_dict)\n",
    "\n",
    "# Drop NaN values\n",
    "weather_data = weather_data.dropna()\n",
    "\n",
    "# Reset Index\n",
    "weather_data = weather_data.reset_index(drop=True)\n",
    "\n",
    "# Export to csv file\n",
    "weather_data.to_csv(\"output_data/city_weather.csv\")\n",
    "\n",
    "# Display dataframe\n",
    "weather_data"
   ]
  },
  {
   "cell_type": "code",
   "execution_count": 89,
   "metadata": {},
   "outputs": [
    {
     "data": {
      "text/html": [
       "<div>\n",
       "<style scoped>\n",
       "    .dataframe tbody tr th:only-of-type {\n",
       "        vertical-align: middle;\n",
       "    }\n",
       "\n",
       "    .dataframe tbody tr th {\n",
       "        vertical-align: top;\n",
       "    }\n",
       "\n",
       "    .dataframe thead th {\n",
       "        text-align: right;\n",
       "    }\n",
       "</style>\n",
       "<table border=\"1\" class=\"dataframe\">\n",
       "  <thead>\n",
       "    <tr style=\"text-align: right;\">\n",
       "      <th></th>\n",
       "      <th>Lat</th>\n",
       "      <th>Lng</th>\n",
       "      <th>Max Temp</th>\n",
       "      <th>Humidity</th>\n",
       "      <th>Cloudiness</th>\n",
       "      <th>Wind Speed</th>\n",
       "      <th>Date</th>\n",
       "    </tr>\n",
       "  </thead>\n",
       "  <tbody>\n",
       "    <tr>\n",
       "      <th>count</th>\n",
       "      <td>534.000000</td>\n",
       "      <td>534.000000</td>\n",
       "      <td>534.000000</td>\n",
       "      <td>534.000000</td>\n",
       "      <td>534.000000</td>\n",
       "      <td>534.000000</td>\n",
       "      <td>5.340000e+02</td>\n",
       "    </tr>\n",
       "    <tr>\n",
       "      <th>mean</th>\n",
       "      <td>22.154077</td>\n",
       "      <td>12.939577</td>\n",
       "      <td>59.762640</td>\n",
       "      <td>68.468165</td>\n",
       "      <td>53.172285</td>\n",
       "      <td>7.718933</td>\n",
       "      <td>1.619307e+09</td>\n",
       "    </tr>\n",
       "    <tr>\n",
       "      <th>std</th>\n",
       "      <td>32.792776</td>\n",
       "      <td>91.614500</td>\n",
       "      <td>18.165531</td>\n",
       "      <td>23.130876</td>\n",
       "      <td>37.658487</td>\n",
       "      <td>5.216768</td>\n",
       "      <td>9.390092e+01</td>\n",
       "    </tr>\n",
       "    <tr>\n",
       "      <th>min</th>\n",
       "      <td>-54.800000</td>\n",
       "      <td>-175.200000</td>\n",
       "      <td>2.550000</td>\n",
       "      <td>5.000000</td>\n",
       "      <td>0.000000</td>\n",
       "      <td>0.160000</td>\n",
       "      <td>1.619307e+09</td>\n",
       "    </tr>\n",
       "    <tr>\n",
       "      <th>25%</th>\n",
       "      <td>-4.000125</td>\n",
       "      <td>-67.687025</td>\n",
       "      <td>45.422500</td>\n",
       "      <td>54.000000</td>\n",
       "      <td>18.500000</td>\n",
       "      <td>3.675000</td>\n",
       "      <td>1.619307e+09</td>\n",
       "    </tr>\n",
       "    <tr>\n",
       "      <th>50%</th>\n",
       "      <td>29.878950</td>\n",
       "      <td>17.982500</td>\n",
       "      <td>60.955000</td>\n",
       "      <td>75.000000</td>\n",
       "      <td>59.500000</td>\n",
       "      <td>6.870000</td>\n",
       "      <td>1.619307e+09</td>\n",
       "    </tr>\n",
       "    <tr>\n",
       "      <th>75%</th>\n",
       "      <td>48.724975</td>\n",
       "      <td>94.237475</td>\n",
       "      <td>76.530000</td>\n",
       "      <td>86.000000</td>\n",
       "      <td>90.000000</td>\n",
       "      <td>10.705000</td>\n",
       "      <td>1.619308e+09</td>\n",
       "    </tr>\n",
       "    <tr>\n",
       "      <th>max</th>\n",
       "      <td>78.218600</td>\n",
       "      <td>179.316700</td>\n",
       "      <td>95.000000</td>\n",
       "      <td>100.000000</td>\n",
       "      <td>100.000000</td>\n",
       "      <td>28.770000</td>\n",
       "      <td>1.619308e+09</td>\n",
       "    </tr>\n",
       "  </tbody>\n",
       "</table>\n",
       "</div>"
      ],
      "text/plain": [
       "              Lat         Lng    Max Temp    Humidity  Cloudiness  Wind Speed  \\\n",
       "count  534.000000  534.000000  534.000000  534.000000  534.000000  534.000000   \n",
       "mean    22.154077   12.939577   59.762640   68.468165   53.172285    7.718933   \n",
       "std     32.792776   91.614500   18.165531   23.130876   37.658487    5.216768   \n",
       "min    -54.800000 -175.200000    2.550000    5.000000    0.000000    0.160000   \n",
       "25%     -4.000125  -67.687025   45.422500   54.000000   18.500000    3.675000   \n",
       "50%     29.878950   17.982500   60.955000   75.000000   59.500000    6.870000   \n",
       "75%     48.724975   94.237475   76.530000   86.000000   90.000000   10.705000   \n",
       "max     78.218600  179.316700   95.000000  100.000000  100.000000   28.770000   \n",
       "\n",
       "               Date  \n",
       "count  5.340000e+02  \n",
       "mean   1.619307e+09  \n",
       "std    9.390092e+01  \n",
       "min    1.619307e+09  \n",
       "25%    1.619307e+09  \n",
       "50%    1.619307e+09  \n",
       "75%    1.619308e+09  \n",
       "max    1.619308e+09  "
      ]
     },
     "execution_count": 89,
     "metadata": {},
     "output_type": "execute_result"
    }
   ],
   "source": [
    "# Display summary statistics\n",
    "weather_data.describe()"
   ]
  },
  {
   "cell_type": "markdown",
   "metadata": {},
   "source": [
    "## Plotting the Data\n",
    "* Use proper labeling of the plots using plot titles (including date of analysis) and axes labels.\n",
    "* Save the plotted figures as .pngs."
   ]
  },
  {
   "cell_type": "markdown",
   "metadata": {},
   "source": [
    "## Latitude vs. Temperature Plot"
   ]
  },
  {
   "cell_type": "code",
   "execution_count": 150,
   "metadata": {},
   "outputs": [
    {
     "data": {
      "image/png": "[encoded data removed]",
      "text/plain": [
       "<Figure size 432x288 with 1 Axes>"
      ]
     },
     "metadata": {
      "needs_background": "light"
     },
     "output_type": "display_data"
    }
   ],
   "source": [
    "# Store x and y variables for scatter plot\n",
    "x_axis = weather_data[\"Lat\"]\n",
    "y_axis = weather_data[\"Max Temp\"]\n",
    "\n",
    "# Create scatter plot\n",
    "plt.xlabel(\"Latitude\")\n",
    "plt.ylabel(\"Max Temperature (F)\")\n",
    "plt.title(\"City Latitude vs. Max Temperature (4/24/21)\")\n",
    "plt.scatter(x_axis, y_axis)\n",
    "plt.grid(True)\n",
    "plt.savefig('output_data/lat_vs_temp.png', facecolor='w', edgecolor='w')\n",
    "plt.show()"
   ]
  },
  {
   "cell_type": "code",
   "execution_count": null,
   "metadata": {},
   "outputs": [],
   "source": [
    "# The plot above shows that there is correlation between latitude and temperature which is what we expected."
   ]
  },
  {
   "cell_type": "markdown",
   "metadata": {},
   "source": [
    "## Latitude vs. Humidity Plot"
   ]
  },
  {
   "cell_type": "code",
   "execution_count": 151,
   "metadata": {},
   "outputs": [
    {
     "data": {
      "image/png": "[encoded data removed]",
      "text/plain": [
       "<Figure size 432x288 with 1 Axes>"
      ]
     },
     "metadata": {
      "needs_background": "light"
     },
     "output_type": "display_data"
    }
   ],
   "source": [
    "# Store x and y variables for scatter plot\n",
    "x_axis = weather_data[\"Lat\"]\n",
    "y_axis = weather_data[\"Humidity\"]\n",
    "\n",
    "# Create scatter plot\n",
    "plt.xlabel(\"Latitude\")\n",
    "plt.ylabel(\"Humidity (%)\")\n",
    "plt.title(\"City Latitude vs. Humidity (4/24/21)\")\n",
    "plt.scatter(x_axis, y_axis)\n",
    "plt.grid(True)\n",
    "plt.savefig('output_data/lat_vs_humid.png', facecolor='w', edgecolor='w')\n",
    "plt.show()"
   ]
  },
  {
   "cell_type": "code",
   "execution_count": null,
   "metadata": {},
   "outputs": [],
   "source": [
    "# The plot above shows that there is not a correlation between latitude and humidity."
   ]
  },
  {
   "cell_type": "markdown",
   "metadata": {},
   "source": [
    "## Latitude vs. Cloudiness Plot"
   ]
  },
  {
   "cell_type": "code",
   "execution_count": 152,
   "metadata": {},
   "outputs": [
    {
     "data": {
      "image/png": "[encoded data removed]",
      "text/plain": [
       "<Figure size 432x288 with 1 Axes>"
      ]
     },
     "metadata": {
      "needs_background": "light"
     },
     "output_type": "display_data"
    }
   ],
   "source": [
    "# Store x and y variables for scatter plot\n",
    "x_axis = weather_data[\"Lat\"]\n",
    "y_axis = weather_data[\"Cloudiness\"]\n",
    "\n",
    "# Create scatter plot\n",
    "plt.xlabel(\"Latitude\")\n",
    "plt.ylabel(\"Cloudiness (%)\")\n",
    "plt.title(\"City Latitude vs. Cloudiness (4/24/21)\")\n",
    "plt.scatter(x_axis, y_axis)\n",
    "plt.grid(True)\n",
    "plt.savefig('output_data/lat_vs_cloud.png', facecolor='w', edgecolor='w')\n",
    "plt.show()"
   ]
  },
  {
   "cell_type": "code",
   "execution_count": null,
   "metadata": {},
   "outputs": [],
   "source": [
    "# The plot above shows that there is not a correlation between latitude and cloudiness."
   ]
  },
  {
   "cell_type": "markdown",
   "metadata": {},
   "source": [
    "## Latitude vs. Wind Speed Plot"
   ]
  },
  {
   "cell_type": "code",
   "execution_count": 153,
   "metadata": {},
   "outputs": [
    {
     "data": {
      "image/png": "[encoded data removed]",
      "text/plain": [
       "<Figure size 432x288 with 1 Axes>"
      ]
     },
     "metadata": {
      "needs_background": "light"
     },
     "output_type": "display_data"
    }
   ],
   "source": [
    "# Store x and y variables for scatter plot\n",
    "x_axis = weather_data[\"Lat\"]\n",
    "y_axis = weather_data[\"Wind Speed\"]\n",
    "\n",
    "# Create scatter plot\n",
    "plt.xlabel(\"Latitude\")\n",
    "plt.ylabel(\"Wind Speed (mph)\")\n",
    "plt.title(\"City Latitude vs. Wind Speed (4/24/21)\")\n",
    "plt.scatter(x_axis, y_axis)\n",
    "plt.grid(True)\n",
    "plt.savefig('output_data/lat_vs_wind.png', facecolor='w', edgecolor='w')\n",
    "plt.show()"
   ]
  },
  {
   "cell_type": "code",
   "execution_count": null,
   "metadata": {},
   "outputs": [],
   "source": [
    "# The plot above shows that there is not a correlation between latitude and wind speed."
   ]
  },
  {
   "cell_type": "markdown",
   "metadata": {},
   "source": [
    "## Linear Regression"
   ]
  },
  {
   "cell_type": "markdown",
   "metadata": {},
   "source": [
    "####  Northern Hemisphere - Max Temp vs. Latitude Linear Regression"
   ]
  },
  {
   "cell_type": "code",
   "execution_count": 125,
   "metadata": {},
   "outputs": [
    {
     "data": {
      "image/png": "[encoded data removed]",
      "text/plain": [
       "<Figure size 432x288 with 1 Axes>"
      ]
     },
     "metadata": {
      "needs_background": "light"
     },
     "output_type": "display_data"
    },
    {
     "name": "stdout",
     "output_type": "stream",
     "text": [
      "The r^2 value is 0.7670287275885654\n"
     ]
    }
   ],
   "source": [
    "# Store x and y variables\n",
    "weather_data_north = weather_data[weather_data[\"Lat\"] > 0]\n",
    "x_axis = weather_data_north[\"Lat\"]\n",
    "y_axis = weather_data_north[\"Max Temp\"]\n",
    "\n",
    "# Plot the line equation on scatter plot\n",
    "(slope, intercept, rvalue, pvalue, stderr) = linregress(x_axis, y_axis)\n",
    "regress_values = x_axis * slope + intercept\n",
    "line_eq = \"y = \" + str(round(slope,2)) + \"x + \" + str(round(intercept,2))\n",
    "\n",
    "plt.plot(x_axis, regress_values, \"r-\")\n",
    "plt.annotate(line_eq, (10,10), fontsize=15, color=\"red\")\n",
    "\n",
    "plt.xlabel(\"Latitude\")\n",
    "plt.ylabel(\"Max Temperature (F)\")\n",
    "plt.title(\"City Latitude vs. Max Temperature (4/24/21)\")\n",
    "plt.scatter(x_axis, y_axis)\n",
    "plt.show()\n",
    "\n",
    "# Print r-value\n",
    "r_square = rvalue*rvalue\n",
    "print(f'The r^2 value is {r_square}')"
   ]
  },
  {
   "cell_type": "code",
   "execution_count": null,
   "metadata": {},
   "outputs": [],
   "source": [
    "# The plot above shows that there is a strong correlation between latitude and temperature in the northern hemisphere. The r^2 value displays this."
   ]
  },
  {
   "cell_type": "markdown",
   "metadata": {},
   "source": [
    "####  Southern Hemisphere - Max Temp vs. Latitude Linear Regression"
   ]
  },
  {
   "cell_type": "code",
   "execution_count": 128,
   "metadata": {},
   "outputs": [
    {
     "data": {
      "image/png": "[encoded data removed]",
      "text/plain": [
       "<Figure size 432x288 with 1 Axes>"
      ]
     },
     "metadata": {
      "needs_background": "light"
     },
     "output_type": "display_data"
    },
    {
     "name": "stdout",
     "output_type": "stream",
     "text": [
      "The r^2 value is 0.5346422707756301\n"
     ]
    }
   ],
   "source": [
    "# Store x and y variables\n",
    "weather_data_south = weather_data[weather_data[\"Lat\"] < 0]\n",
    "x_axis = weather_data_south[\"Lat\"]\n",
    "y_axis = weather_data_south[\"Max Temp\"]\n",
    "\n",
    "# Plot the line equation on scatter plot\n",
    "(slope, intercept, rvalue, pvalue, stderr) = linregress(x_axis, y_axis)\n",
    "regress_values = x_axis * slope + intercept\n",
    "line_eq = \"y = \" + str(round(slope,2)) + \"x + \" + str(round(intercept,2))\n",
    "\n",
    "plt.plot(x_axis, regress_values, \"r-\")\n",
    "plt.annotate(line_eq, (-30,50), fontsize=15, color=\"red\")\n",
    "\n",
    "plt.xlabel(\"Latitude\")\n",
    "plt.ylabel(\"Max Temperature (F)\")\n",
    "plt.title(\"City Latitude vs. Max Temperature (4/24/21)\")\n",
    "plt.scatter(x_axis, y_axis)\n",
    "plt.show()\n",
    "\n",
    "# Print r-value\n",
    "r_square = rvalue*rvalue\n",
    "print(f'The r^2 value is {r_square}')"
   ]
  },
  {
   "cell_type": "code",
   "execution_count": null,
   "metadata": {},
   "outputs": [],
   "source": [
    "# The plot above shows that there is a strong correlation between latitude and temperature in the southern hemisphere. The r^2 value displays this."
   ]
  },
  {
   "cell_type": "markdown",
   "metadata": {},
   "source": [
    "####  Northern Hemisphere - Humidity (%) vs. Latitude Linear Regression"
   ]
  },
  {
   "cell_type": "code",
   "execution_count": 132,
   "metadata": {},
   "outputs": [
    {
     "data": {
      "image/png": "[encoded data removed]",
      "text/plain": [
       "<Figure size 432x288 with 1 Axes>"
      ]
     },
     "metadata": {
      "needs_background": "light"
     },
     "output_type": "display_data"
    },
    {
     "name": "stdout",
     "output_type": "stream",
     "text": [
      "The r^2 value is 0.007653183689825376\n"
     ]
    }
   ],
   "source": [
    "# Store x and y variables\n",
    "weather_data_north = weather_data[weather_data[\"Lat\"] > 0]\n",
    "x_axis = weather_data_north[\"Lat\"]\n",
    "y_axis = weather_data_north[\"Humidity\"]\n",
    "\n",
    "# Plot the line equation on scatter plot\n",
    "(slope, intercept, rvalue, pvalue, stderr) = linregress(x_axis, y_axis)\n",
    "regress_values = x_axis * slope + intercept\n",
    "line_eq = \"y = \" + str(round(slope,2)) + \"x + \" + str(round(intercept,2))\n",
    "\n",
    "plt.plot(x_axis, regress_values, \"r-\")\n",
    "plt.annotate(line_eq, (40,5), fontsize=15, color=\"red\")\n",
    "\n",
    "plt.xlabel(\"Latitude\")\n",
    "plt.ylabel(\"Humidity (%)\")\n",
    "plt.title(\"City Latitude vs. Humidity (4/24/21)\")\n",
    "plt.scatter(x_axis, y_axis)\n",
    "plt.show()\n",
    "\n",
    "# Print r-value\n",
    "r_square = rvalue*rvalue\n",
    "print(f'The r^2 value is {r_square}')"
   ]
  },
  {
   "cell_type": "code",
   "execution_count": null,
   "metadata": {},
   "outputs": [],
   "source": [
    "# The plot above shows that there is a weak correlation between latitude and humidity in the northern hemisphere. The r^2 value displays this."
   ]
  },
  {
   "cell_type": "markdown",
   "metadata": {},
   "source": [
    "####  Southern Hemisphere - Humidity (%) vs. Latitude Linear Regression"
   ]
  },
  {
   "cell_type": "code",
   "execution_count": 135,
   "metadata": {},
   "outputs": [
    {
     "data": {
      "image/png": "[encoded data removed]",
      "text/plain": [
       "<Figure size 432x288 with 1 Axes>"
      ]
     },
     "metadata": {
      "needs_background": "light"
     },
     "output_type": "display_data"
    },
    {
     "name": "stdout",
     "output_type": "stream",
     "text": [
      "The r^2 value is 0.05039325847645719\n"
     ]
    }
   ],
   "source": [
    "# Store x and y variables\n",
    "weather_data_south = weather_data[weather_data[\"Lat\"] < 0]\n",
    "x_axis = weather_data_south[\"Lat\"]\n",
    "y_axis = weather_data_south[\"Humidity\"]\n",
    "\n",
    "# Plot the line equation on scatter plot\n",
    "(slope, intercept, rvalue, pvalue, stderr) = linregress(x_axis, y_axis)\n",
    "regress_values = x_axis * slope + intercept\n",
    "line_eq = \"y = \" + str(round(slope,2)) + \"x + \" + str(round(intercept,2))\n",
    "\n",
    "plt.plot(x_axis, regress_values, \"r-\")\n",
    "plt.annotate(line_eq, (-50,55), fontsize=15, color=\"red\")\n",
    "\n",
    "plt.xlabel(\"Latitude\")\n",
    "plt.ylabel(\"Humidity (%)\")\n",
    "plt.title(\"City Latitude vs. Humidity (4/24/21)\")\n",
    "plt.scatter(x_axis, y_axis)\n",
    "plt.show()\n",
    "\n",
    "# Print r-value\n",
    "r_square = rvalue*rvalue\n",
    "print(f'The r^2 value is {r_square}')"
   ]
  },
  {
   "cell_type": "code",
   "execution_count": null,
   "metadata": {},
   "outputs": [],
   "source": [
    "# The plot above shows that there is a weak correlation between latitude and humidity in the southern hemisphere. The r^2 value displays this."
   ]
  },
  {
   "cell_type": "markdown",
   "metadata": {},
   "source": [
    "####  Northern Hemisphere - Cloudiness (%) vs. Latitude Linear Regression"
   ]
  },
  {
   "cell_type": "code",
   "execution_count": 137,
   "metadata": {},
   "outputs": [
    {
     "data": {
      "image/png": "[encoded data removed]",
      "text/plain": [
       "<Figure size 432x288 with 1 Axes>"
      ]
     },
     "metadata": {
      "needs_background": "light"
     },
     "output_type": "display_data"
    },
    {
     "name": "stdout",
     "output_type": "stream",
     "text": [
      "The r^2 value is 0.0323358081234542\n"
     ]
    }
   ],
   "source": [
    "# Store x and y variables\n",
    "weather_data_north = weather_data[weather_data[\"Lat\"] > 0]\n",
    "x_axis = weather_data_north[\"Lat\"]\n",
    "y_axis = weather_data_north[\"Cloudiness\"]\n",
    "\n",
    "# Plot the line equation on scatter plot\n",
    "(slope, intercept, rvalue, pvalue, stderr) = linregress(x_axis, y_axis)\n",
    "regress_values = x_axis * slope + intercept\n",
    "line_eq = \"y = \" + str(round(slope,2)) + \"x + \" + str(round(intercept,2))\n",
    "\n",
    "plt.plot(x_axis, regress_values, \"r-\")\n",
    "plt.annotate(line_eq, (40,30), fontsize=15, color=\"red\")\n",
    "\n",
    "plt.xlabel(\"Latitude\")\n",
    "plt.ylabel(\"Cloudiness (%)\")\n",
    "plt.title(\"City Latitude vs. Cloudiness (4/24/21)\")\n",
    "plt.scatter(x_axis, y_axis)\n",
    "plt.show()\n",
    "\n",
    "# Print r-value\n",
    "r_square = rvalue*rvalue\n",
    "print(f'The r^2 value is {r_square}')"
   ]
  },
  {
   "cell_type": "code",
   "execution_count": null,
   "metadata": {},
   "outputs": [],
   "source": [
    "# The plot above shows that there is a weak correlation between latitude and cloudiness in the northern hemisphere. The r^2 value displays this."
   ]
  },
  {
   "cell_type": "markdown",
   "metadata": {},
   "source": [
    "####  Southern Hemisphere - Cloudiness (%) vs. Latitude Linear Regression"
   ]
  },
  {
   "cell_type": "code",
   "execution_count": 139,
   "metadata": {},
   "outputs": [
    {
     "data": {
      "image/png": "[encoded data removed]",
      "text/plain": [
       "<Figure size 432x288 with 1 Axes>"
      ]
     },
     "metadata": {
      "needs_background": "light"
     },
     "output_type": "display_data"
    },
    {
     "name": "stdout",
     "output_type": "stream",
     "text": [
      "The r^2 value is 0.012709959530713332\n"
     ]
    }
   ],
   "source": [
    "# Store x and y variables\n",
    "weather_data_south = weather_data[weather_data[\"Lat\"] < 0]\n",
    "x_axis = weather_data_south[\"Lat\"]\n",
    "y_axis = weather_data_south[\"Cloudiness\"]\n",
    "\n",
    "# Plot the line equation on scatter plot\n",
    "(slope, intercept, rvalue, pvalue, stderr) = linregress(x_axis, y_axis)\n",
    "regress_values = x_axis * slope + intercept\n",
    "line_eq = \"y = \" + str(round(slope,2)) + \"x + \" + str(round(intercept,2))\n",
    "\n",
    "plt.plot(x_axis, regress_values, \"r-\")\n",
    "plt.annotate(line_eq, (-50,20), fontsize=15, color=\"red\")\n",
    "\n",
    "plt.xlabel(\"Latitude\")\n",
    "plt.ylabel(\"Cloudiness (%)\")\n",
    "plt.title(\"City Latitude vs. Cloudiness (4/24/21)\")\n",
    "plt.scatter(x_axis, y_axis)\n",
    "plt.show()\n",
    "\n",
    "# Print r-value\n",
    "r_square = rvalue*rvalue\n",
    "print(f'The r^2 value is {r_square}')"
   ]
  },
  {
   "cell_type": "code",
   "execution_count": null,
   "metadata": {},
   "outputs": [],
   "source": [
    "# The plot above shows that there is a weak correlation between latitude and cloudiness in the southern hemisphere. The r^2 value displays this."
   ]
  },
  {
   "cell_type": "markdown",
   "metadata": {},
   "source": [
    "####  Northern Hemisphere - Wind Speed (mph) vs. Latitude Linear Regression"
   ]
  },
  {
   "cell_type": "code",
   "execution_count": 141,
   "metadata": {},
   "outputs": [
    {
     "data": {
      "image/png": "[encoded data removed]",
      "text/plain": [
       "<Figure size 432x288 with 1 Axes>"
      ]
     },
     "metadata": {
      "needs_background": "light"
     },
     "output_type": "display_data"
    },
    {
     "name": "stdout",
     "output_type": "stream",
     "text": [
      "The r^2 value is 1.6158232448580803e-06\n"
     ]
    }
   ],
   "source": [
    "# Store x and y variables\n",
    "weather_data_north = weather_data[weather_data[\"Lat\"] > 0]\n",
    "x_axis = weather_data_north[\"Lat\"]\n",
    "y_axis = weather_data_north[\"Wind Speed\"]\n",
    "\n",
    "# Plot the line equation on scatter plot\n",
    "(slope, intercept, rvalue, pvalue, stderr) = linregress(x_axis, y_axis)\n",
    "regress_values = x_axis * slope + intercept\n",
    "line_eq = \"y = \" + str(round(slope,2)) + \"x + \" + str(round(intercept,2))\n",
    "\n",
    "plt.plot(x_axis, regress_values, \"r-\")\n",
    "plt.annotate(line_eq, (0,25), fontsize=15, color=\"red\")\n",
    "\n",
    "plt.xlabel(\"Latitude\")\n",
    "plt.ylabel(\"Wind Speed (mph)\")\n",
    "plt.title(\"City Latitude vs. Wind Speed (4/24/21)\")\n",
    "plt.scatter(x_axis, y_axis)\n",
    "plt.show()\n",
    "\n",
    "# Print r-value\n",
    "r_square = rvalue*rvalue\n",
    "print(f'The r^2 value is {r_square}')"
   ]
  },
  {
   "cell_type": "code",
   "execution_count": null,
   "metadata": {},
   "outputs": [],
   "source": [
    "# The plot above shows that there is a weak correlation between latitude and wind speed in the northern hemisphere. The r^2 value displays this."
   ]
  },
  {
   "cell_type": "markdown",
   "metadata": {},
   "source": [
    "####  Southern Hemisphere - Wind Speed (mph) vs. Latitude Linear Regression"
   ]
  },
  {
   "cell_type": "code",
   "execution_count": 143,
   "metadata": {},
   "outputs": [
    {
     "data": {
      "image/png": "[encoded data removed]",
      "text/plain": [
       "<Figure size 432x288 with 1 Axes>"
      ]
     },
     "metadata": {
      "needs_background": "light"
     },
     "output_type": "display_data"
    },
    {
     "name": "stdout",
     "output_type": "stream",
     "text": [
      "The r^2 value is 0.05926045708997372\n"
     ]
    }
   ],
   "source": [
    "# Store x and y variables\n",
    "weather_data_south = weather_data[weather_data[\"Lat\"] < 0]\n",
    "x_axis = weather_data_south[\"Lat\"]\n",
    "y_axis = weather_data_south[\"Wind Speed\"]\n",
    "\n",
    "# Plot the line equation on scatter plot\n",
    "(slope, intercept, rvalue, pvalue, stderr) = linregress(x_axis, y_axis)\n",
    "regress_values = x_axis * slope + intercept\n",
    "line_eq = \"y = \" + str(round(slope,2)) + \"x + \" + str(round(intercept,2))\n",
    "\n",
    "plt.plot(x_axis, regress_values, \"r-\")\n",
    "plt.annotate(line_eq, (-50,20), fontsize=15, color=\"red\")\n",
    "\n",
    "plt.xlabel(\"Latitude\")\n",
    "plt.ylabel(\"Wind Speed (mph)\")\n",
    "plt.title(\"City Latitude vs. Wind Speed (4/24/21)\")\n",
    "plt.scatter(x_axis, y_axis)\n",
    "plt.show()\n",
    "\n",
    "# Print r-value\n",
    "r_square = rvalue*rvalue\n",
    "print(f'The r^2 value is {r_square}')"
   ]
  },
  {
   "cell_type": "code",
   "execution_count": null,
   "metadata": {},
   "outputs": [],
   "source": [
    "# The plot above shows that there is a weak correlation between latitude and wind speed in the southern hemisphere. The r^2 value displays this."
   ]
  }
 ],
 "metadata": {
  "anaconda-cloud": {},
  "kernel_info": {
   "name": "python3"
  },
  "kernelspec": {
   "display_name": "Python 3",
   "language": "python",
   "name": "python3"
  },
  "language_info": {
   "codemirror_mode": {
    "name": "ipython",
    "version": 3
   },
   "file_extension": ".py",
   "mimetype": "text/x-python",
   "name": "python",
   "nbconvert_exporter": "python",
   "pygments_lexer": "ipython3",
   "version": "3.8.5"
  },
  "latex_envs": {
   "LaTeX_envs_menu_present": true,
   "autoclose": false,
   "autocomplete": true,
   "bibliofile": "biblio.bib",
   "cite_by": "apalike",
   "current_citInitial": 1,
   "eqLabelWithNumbers": true,
   "eqNumInitial": 1,
   "hotkeys": {
    "equation": "Ctrl-E",
    "itemize": "Ctrl-I"
   },
   "labels_anchors": false,
   "latex_user_defs": false,
   "report_style_numbering": false,
   "user_envs_cfg": false
  },
  "nteract": {
   "version": "0.12.3"
  }
 },
 "nbformat": 4,
 "nbformat_minor": 2
}
